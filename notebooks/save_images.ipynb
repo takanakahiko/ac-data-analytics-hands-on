{
 "cells": [
  {
   "cell_type": "code",
   "execution_count": null,
   "metadata": {},
   "outputs": [],
   "source": [
    "import os\n",
    "import sys\n",
    "import traceback\n",
    "from mimetypes import guess_extension\n",
    "from time import time, sleep\n",
    "from urllib.request import urlopen, Request\n",
    "from urllib.parse import quote\n",
    "from bs4 import BeautifulSoup"
   ]
  },
  {
   "cell_type": "code",
   "execution_count": null,
   "metadata": {},
   "outputs": [],
   "source": [
    "MY_EMAIL_ADDR = 'takanakahiko@gmail.com'"
   ]
  },
  {
   "cell_type": "code",
   "execution_count": null,
   "metadata": {},
   "outputs": [],
   "source": [
    "class Fetcher:\n",
    "    def __init__(self, ua=''):\n",
    "        self.ua = ua\n",
    "\n",
    "    def fetch(self, url):\n",
    "        req = Request(url, headers={'User-Agent': self.ua})\n",
    "        try:\n",
    "            with urlopen(req, timeout=3) as p:\n",
    "                b_content = p.read()\n",
    "                mime = p.getheader('Content-Type')\n",
    "        except:\n",
    "            sys.stderr.write('Error in fetching {}\\n'.format(url))\n",
    "            sys.stderr.write(traceback.format_exc())\n",
    "            return None, None\n",
    "        return b_content, mime\n",
    "\n",
    "fetcher = Fetcher(MY_EMAIL_ADDR)"
   ]
  },
  {
   "cell_type": "code",
   "execution_count": null,
   "metadata": {},
   "outputs": [],
   "source": [
    "def fetch_and_save_img(data_dir, word):\n",
    "    if not os.path.exists(data_dir):\n",
    "        os.makedirs(data_dir)\n",
    "\n",
    "    for i, img_url in enumerate(img_url_list(word)):\n",
    "        sleep(0.1)\n",
    "        img, mime = fetcher.fetch(img_url)\n",
    "        if not mime or not img:\n",
    "            continue\n",
    "        ext = guess_extension(mime.split(';')[0])\n",
    "        if ext in ('.jpe', '.jpeg'):\n",
    "            ext = '.jpg'\n",
    "        if not ext:\n",
    "            continue\n",
    "        result_file = os.path.join(data_dir, str(i) + ext)\n",
    "        with open(result_file, mode='wb') as f:\n",
    "            f.write(img)\n",
    "        print('fetched', img_url)"
   ]
  },
  {
   "cell_type": "code",
   "execution_count": null,
   "metadata": {},
   "outputs": [],
   "source": [
    "def img_url_list(word):\n",
    "    \"\"\"\n",
    "    using yahoo (this script can't use at google)\n",
    "    \"\"\"\n",
    "    url = 'http://image.search.yahoo.co.jp/search?n=60&p={}&search.x=1'.format(quote(word))\n",
    "    byte_content, _ = fetcher.fetch(url)\n",
    "    structured_page = BeautifulSoup(byte_content.decode('UTF-8'), 'html.parser')\n",
    "    img_link_elems = structured_page.find_all('a', attrs={'target': 'imagewin'})\n",
    "    img_urls = [e.get('href') for e in img_link_elems if e.get('href').startswith('http')]\n",
    "    img_urls = list(set(img_urls))\n",
    "    return img_urls"
   ]
  },
  {
   "cell_type": "code",
   "execution_count": null,
   "metadata": {},
   "outputs": [],
   "source": [
    "fetch_and_save_img('../data/cat/', '猫')\n",
    "fetch_and_save_img('../data/dog/', '犬')"
   ]
  },
  {
   "cell_type": "code",
   "execution_count": null,
   "metadata": {},
   "outputs": [],
   "source": []
  }
 ],
 "metadata": {
  "kernelspec": {
   "display_name": "Python 3",
   "language": "python",
   "name": "python3"
  },
  "language_info": {
   "codemirror_mode": {
    "name": "ipython",
    "version": 3
   },
   "file_extension": ".py",
   "mimetype": "text/x-python",
   "name": "python",
   "nbconvert_exporter": "python",
   "pygments_lexer": "ipython3",
   "version": "3.6.4"
  }
 },
 "nbformat": 4,
 "nbformat_minor": 2
}
