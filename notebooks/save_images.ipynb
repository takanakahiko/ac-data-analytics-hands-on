{
 "cells": [
  {
   "cell_type": "code",
   "execution_count": 1,
   "metadata": {},
   "outputs": [],
   "source": [
    "import os\n",
    "import sys\n",
    "import traceback\n",
    "from mimetypes import guess_extension\n",
    "from time import time, sleep\n",
    "from urllib.request import urlopen, Request\n",
    "from urllib.parse import quote\n",
    "from bs4 import BeautifulSoup"
   ]
  },
  {
   "cell_type": "code",
   "execution_count": 2,
   "metadata": {},
   "outputs": [],
   "source": [
    "MY_EMAIL_ADDR = 'takanakahiko@gmail.com'"
   ]
  },
  {
   "cell_type": "code",
   "execution_count": 3,
   "metadata": {},
   "outputs": [],
   "source": [
    "class Fetcher:\n",
    "    def __init__(self, ua=''):\n",
    "        self.ua = ua\n",
    "\n",
    "    def fetch(self, url):\n",
    "        req = Request(url, headers={'User-Agent': self.ua})\n",
    "        try:\n",
    "            with urlopen(req, timeout=3) as p:\n",
    "                b_content = p.read()\n",
    "                mime = p.getheader('Content-Type')\n",
    "        except:\n",
    "            sys.stderr.write('Error in fetching {}\\n'.format(url))\n",
    "            sys.stderr.write(traceback.format_exc())\n",
    "            return None, None\n",
    "        return b_content, mime\n",
    "\n",
    "fetcher = Fetcher(MY_EMAIL_ADDR)"
   ]
  },
  {
   "cell_type": "code",
   "execution_count": 4,
   "metadata": {},
   "outputs": [],
   "source": [
    "def fetch_and_save_img(word):\n",
    "    data_dir = '../data/'\n",
    "    if not os.path.exists(data_dir):\n",
    "        os.makedirs(data_dir)\n",
    "\n",
    "    for i, img_url in enumerate(img_url_list(word)):\n",
    "        sleep(0.1)\n",
    "        img, mime = fetcher.fetch(img_url)\n",
    "        if not mime or not img:\n",
    "            continue\n",
    "        ext = guess_extension(mime.split(';')[0])\n",
    "        if ext in ('.jpe', '.jpeg'):\n",
    "            ext = '.jpg'\n",
    "        if not ext:\n",
    "            continue\n",
    "        result_file = os.path.join(data_dir, str(i) + ext)\n",
    "        with open(result_file, mode='wb') as f:\n",
    "            f.write(img)\n",
    "        print('fetched', img_url)"
   ]
  },
  {
   "cell_type": "code",
   "execution_count": 5,
   "metadata": {},
   "outputs": [],
   "source": [
    "def img_url_list(word):\n",
    "    \"\"\"\n",
    "    using yahoo (this script can't use at google)\n",
    "    \"\"\"\n",
    "    url = 'http://image.search.yahoo.co.jp/search?n=60&p={}&search.x=1'.format(quote(word))\n",
    "    byte_content, _ = fetcher.fetch(url)\n",
    "    structured_page = BeautifulSoup(byte_content.decode('UTF-8'), 'html.parser')\n",
    "    img_link_elems = structured_page.find_all('a', attrs={'target': 'imagewin'})\n",
    "    img_urls = [e.get('href') for e in img_link_elems if e.get('href').startswith('http')]\n",
    "    img_urls = list(set(img_urls))\n",
    "    return img_urls"
   ]
  },
  {
   "cell_type": "code",
   "execution_count": 6,
   "metadata": {},
   "outputs": [
    {
     "name": "stdout",
     "output_type": "stream",
     "text": [
      "fetched http://3.bp.blogspot.com/-_r1FI94rbMs/Un2n3UqE4JI/AAAAAAAA53w/lcWc6uQruFs/s1600/IMG_5160.JPG\n",
      "fetched http://farm4.static.flickr.com/3177/3015234038_31092c7e53.jpg\n",
      "fetched http://blogimg.goo.ne.jp/user_image/73/9e/4c1fb20773c8e6206b6c6b084e5be575.jpg\n",
      "fetched http://livedoor.blogimg.jp/tokyocat_g/imgs/f/b/fb7b897e.jpg\n",
      "fetched https://imgcp.aacdn.jp/img-a/800/auto/aa/gm/article/3/1/8/0/6/201801222224/neko2.jpg\n",
      "fetched http://farm1.static.flickr.com/75/182107227_f85c3c1445.jpg\n",
      "fetched http://farm3.static.flickr.com/2067/2149377025_8999d9c91a.jpg\n",
      "fetched http://livedoor.blogimg.jp/loveai0221/imgs/c/c/ccfbbd61.jpg\n",
      "fetched http://www.nekohouse.jp/photo/0901/01/18-03b.jpg\n",
      "fetched https://upload.wikimedia.org/wikipedia/commons/thumb/9/9e/2016-06-14_Orange_and_white_tabby_cat_born_in_2016_%E8%8C%B6%E3%83%88%E3%83%A9%E7%99%BD%E3%81%AD%E3%81%93_DSCF6526%E2%98%86%E5%BD%A1.jpg/200px-2016-06-14_Orange_and_white_tabby_cat_born_in_2016_%E8%8C%B6%E3%83%88%E3%83%A9%E7%99%BD%E3%81%AD%E3%81%93_DSCF6526%E2%98%86%E5%BD%A1.jpg\n",
      "fetched http://farm2.static.flickr.com/1388/1140425336_d136c0d131.jpg\n",
      "fetched http://trusty-hair.com/wp-content/uploads/2a59d2e0_1279734332409.jpg\n",
      "fetched http://pds.exblog.jp/pds/1/200505%2F24%2F45%2Fd0045345%5F13102469%2Ejpg\n",
      "fetched http://munchkinkitten.c.blog.so-net.ne.jp/_images/blog/_d25/munchkinkitten/IMG_9689sss.jpg\n",
      "fetched http://farm2.static.flickr.com/1422/1103730141_dc9e11ab01.jpg\n",
      "fetched http://farm3.static.flickr.com/2036/2280239521_559110c980.jpg\n",
      "fetched http://farm2.static.flickr.com/1136/539104569_851426001c.jpg\n",
      "fetched http://farm4.static.flickr.com/3189/2974799377_f320af1c60.jpg\n",
      "fetched http://farm2.static.flickr.com/1027/1415110038_256b5523ca.jpg\n",
      "fetched http://i.gzn.jp/img/2013/12/08/cat-island-aoshima/P1640394_m.jpg\n",
      "fetched http://farm1.static.flickr.com/78/177895019_0c414a67af.jpg\n",
      "fetched http://file.digicat.blog.shinobi.jp/po07.jpg\n",
      "fetched http://farm4.static.flickr.com/3225/3034204261_4596dd6e9e.jpg\n",
      "fetched http://www.kabegami.com/content_image/phot/0000000000/0D/A1/PHOT00000000000DA13E.jpg\n",
      "fetched http://farm4.static.flickr.com/3238/2890146982_19c107f7d4.jpg\n",
      "fetched http://farm3.static.flickr.com/2030/2093710848_c4dbd01a0b.jpg\n",
      "fetched https://i.ytimg.com/vi/cwFzY49meP0/maxresdefault.jpg\n",
      "fetched http://farm4.static.flickr.com/3250/2855096963_50252e2994.jpg\n",
      "fetched http://i.gzn.jp/img/2013/12/08/cat-island-aoshima/P1640287_m.jpg\n",
      "fetched https://grapee.jp/wp-content/uploads/32187_main2.jpg\n",
      "fetched https://www.necoichi.co.jp/files/topics/6239_ext_01_0.jpg\n",
      "fetched http://farm2.static.flickr.com/1243/1304092631_2ca2935452.jpg\n",
      "fetched http://farm3.static.flickr.com/2280/2235608172_35c4b3407a.jpg\n",
      "fetched http://farm4.static.flickr.com/3025/2932466131_020336fbc4.jpg\n",
      "fetched http://image.space.rakuten.co.jp/lg01/41/0000084841/78/imgdf21fdb0zikazj.jpeg\n",
      "fetched http://farm4.static.flickr.com/3015/2318735470_d5f44ed02c.jpg\n",
      "fetched http://farm3.static.flickr.com/2171/2102536290_bc33f74281.jpg\n",
      "fetched http://farm1.static.flickr.com/65/182073753_a1b5ebaa60.jpg\n",
      "fetched https://www.necoichi.co.jp/files/topics/4163_ext_01_0.jpg\n",
      "fetched http://image.space.rakuten.co.jp/lg01/41/0000084841/45/imge33230cfzik2zj.jpeg\n",
      "fetched http://farm1.static.flickr.com/159/334902141_175f62ff96.jpg\n",
      "fetched http://farm3.static.flickr.com/2110/2520367483_6bf32630c7.jpg\n",
      "fetched http://konekoinu.up.seesaa.net/image/5818.jpg\n",
      "fetched http://farm1.static.flickr.com/148/425215151_0e938efcb4.jpg\n",
      "fetched http://farm2.static.flickr.com/1398/1464990202_0fe1d2b4cc.jpg\n",
      "fetched http://farm3.static.flickr.com/2420/2384804297_c49864b4cf.jpg\n",
      "fetched http://blog-nekomamire.cocolog-nifty.com/blog/WindowsLiveWriter/52.jpg\n",
      "fetched http://farm1.static.flickr.com/214/503258305_c1702dde6d.jpg\n",
      "fetched http://farm3.static.flickr.com/2270/2134115719_2fc03a56a0.jpg\n",
      "fetched http://farm1.static.flickr.com/18/69375046_d06dc77299.jpg\n",
      "fetched http://farm4.static.flickr.com/3248/2994877504_eae51eff5d.jpg\n",
      "fetched http://d2dcan0armyq93.cloudfront.net/photo/odai/600/f49459ac1abdc1f6130807d9d9d1c610_600.jpg\n",
      "fetched http://3.bp.blogspot.com/-qntoBxY__og/UobsYPSQkoI/AAAAAAAA6GY/XNQ_jAvBPyo/s1600/IMG_5819.JPG\n",
      "fetched http://image.itmedia.co.jp/nl/articles/1709/14/ur170913_suzume01.jpg\n",
      "fetched http://stat.ameba.jp/user_images/4f/a6/10073854375.jpg\n",
      "fetched http://farm4.static.flickr.com/3038/2855096609_757b03321b.jpg\n",
      "fetched http://i.gzn.jp/img/2013/12/08/cat-island-aoshima/P1640397_m.jpg\n",
      "fetched http://farm2.static.flickr.com/1124/1007519831_33dab06796.jpg\n",
      "fetched http://farm2.static.flickr.com/1372/1116259874_ef1a8d8deb.jpg\n",
      "fetched http://www.yomiuri.co.jp/photo/20171228/20171228-OYT8I50004-N.jpg\n"
     ]
    }
   ],
   "source": [
    "fetch_and_save_img('猫')"
   ]
  },
  {
   "cell_type": "code",
   "execution_count": null,
   "metadata": {},
   "outputs": [],
   "source": []
  }
 ],
 "metadata": {
  "kernelspec": {
   "display_name": "Python 3",
   "language": "python",
   "name": "python3"
  },
  "language_info": {
   "codemirror_mode": {
    "name": "ipython",
    "version": 3
   },
   "file_extension": ".py",
   "mimetype": "text/x-python",
   "name": "python",
   "nbconvert_exporter": "python",
   "pygments_lexer": "ipython3",
   "version": "3.6.4"
  }
 },
 "nbformat": 4,
 "nbformat_minor": 2
}
